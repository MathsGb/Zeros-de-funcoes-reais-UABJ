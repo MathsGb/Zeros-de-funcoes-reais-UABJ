{
  "nbformat": 4,
  "nbformat_minor": 0,
  "metadata": {
    "colab": {
      "provenance": [],
      "authorship_tag": "ABX9TyOoj0E8VvZkv3/t74A7GQ+s",
      "include_colab_link": true
    },
    "kernelspec": {
      "name": "python3",
      "display_name": "Python 3"
    },
    "language_info": {
      "name": "python"
    }
  },
  "cells": [
    {
      "cell_type": "markdown",
      "metadata": {
        "id": "view-in-github",
        "colab_type": "text"
      },
      "source": [
        "<a href=\"https://colab.research.google.com/github/MathsGb/Zeros-de-funcoes-reais-UABJ/blob/main/Atividade_3_de_C%C3%A1lculo_Num%C3%A9rico.ipynb\" target=\"_parent\"><img src=\"https://colab.research.google.com/assets/colab-badge.svg\" alt=\"Open In Colab\"/></a>"
      ]
    },
    {
      "cell_type": "code",
      "execution_count": 18,
      "metadata": {
        "id": "nKFc2gEz6tTu",
        "colab": {
          "base_uri": "https://localhost:8080/"
        },
        "outputId": "bb3e9505-f5ec-4aaa-e8c2-544c88bfb07c"
      },
      "outputs": [
        {
          "output_type": "stream",
          "name": "stdout",
          "text": [
            "Resultado para matriz 3x3\n",
            "[1. 1. 1.] \n",
            "\n",
            "Resultado para matriz 10x10\n",
            "[1.         1.00000011 0.99999774 1.00002048 0.99990264 1.00026691\n",
            " 0.99956309 1.0004214  0.99977914 1.0000485 ] \n",
            "\n",
            "Resultado para matriz 100x100\n",
            "[   1.00000006    1.00000346    0.99930232    1.02284112    0.67542449\n",
            "    3.50505047  -10.56441888   34.39696064  -60.72475166   77.65705479\n",
            "  -77.08167439   86.19871304  -72.49426455   16.54992884   23.95879226\n",
            "   -7.31922878   32.21947592  -71.51727711   -9.46832563  102.14786375\n",
            "   -4.39895922  -49.22591065  -65.42842846   77.29850997    8.93782563\n",
            "   10.73930732   -2.85848396  -94.70484285   18.50972397  112.92524923\n",
            "   53.29317769  -77.717847    -45.60028616    0.85275608  -20.4096287\n",
            "  -56.15194547  106.64520984   -3.43304762   45.76884452    8.18463462\n",
            "  -62.14433983   10.47684517   26.81016976  -75.72695047   76.43373944\n",
            "  -55.66160624  -22.27769001   89.82669695  -63.1821981   111.92186071\n",
            "  -73.86488276   28.55377376  -22.52848467  -44.40537539  -20.73465397\n",
            "   45.28378752  -39.73522503  -57.64909728  101.37393269   57.69560291\n",
            "   47.33773405  105.39748722  -47.40919843 -159.08731145  -38.12126809\n",
            "  -73.96960431   18.91336514  -69.1623547   118.19568393   26.67259899\n",
            "  141.97363569   69.76167941 -144.15737423  -13.45462434   67.81391467\n",
            "  -44.46076732 -126.18023446  -39.0299777   192.48260863  -67.48642066\n",
            "   16.63922918   82.76295773 -146.84427475  -90.70141644  164.56425302\n",
            "  126.83873717   11.11376428 -223.70625181   -6.50592939   67.25687921\n",
            " -139.33749886  216.16064483    2.02363756  -98.08079978  114.96278698\n",
            "   -3.84267504  -55.48805819 -100.47025635   98.01317515   -7.2417108 ] \n",
            "\n"
          ]
        }
      ],
      "source": [
        "import numpy\n",
        "\n",
        "def Hilbert(n):\n",
        "    matriz = []  # Cria uma matriz genérica que terá n² listas: []  dentro dela\n",
        "    for m in range(0 , n):\n",
        "        matriz.append([])\n",
        "        for k in range (0, n):\n",
        "            temp = matriz[m]\n",
        "            temp.append(0)   # Prenchemos essa matriz com 0 dependedo do valor de n\n",
        "\n",
        "    for i in range(0, n):\n",
        "        for j in range(0, n):\n",
        "            matriz[i][j] = 1 / ((i + 1) + (j + 1) -1) # Depois substituimos aquele 0 pelo valor verdadeiro\n",
        "            #Somamos 1 a i e j para eliminar o caso de divisão por 0\n",
        "\n",
        "    return matriz\n",
        "\n",
        "def Vetor(matriz):   #Cálculo do vetor da matriz de Hilbert\n",
        "    Vetor = []\n",
        "\n",
        "    for i in range(0, len(matriz)):\n",
        "\n",
        "        Soma = 0\n",
        "        for j in range(0, len(matriz)):\n",
        "            Soma += matriz[i][j]    # Resultado da soma da linha\n",
        "        Vetor.append(Soma)\n",
        "    return Vetor\n",
        "\n",
        "matriz = Hilbert(3) # Determina qualquer matriz de Hilbert\n",
        "b = Vetor(matriz)\n",
        "\n",
        "def Gaus(A, B):\n",
        "    # A é a matriz de coeficiente préviamente determinado e B é o vetor\n",
        "    n = len(B)\n",
        "\n",
        "    for k in range(0, n-1):\n",
        "        pivo = A[k][k]\n",
        "\n",
        "        for i in range(k+1 , n):\n",
        "            m = A[i][k] / pivo\n",
        "\n",
        "            for j in range(k, n):\n",
        "                A[i][j] = A[i][j] - m * A[k][j]\n",
        "\n",
        "            B[i] = B[i] - m * B[k]\n",
        "\n",
        "    return A, B  #matriz já escalonada\n",
        "\n",
        "def subs_reversa(A_t, B_t):\n",
        "    n = len(B_t)\n",
        "    x = n*[0]\n",
        "\n",
        "    x[n-1] = B_t[n-1] / A_t[n-1][n-1]\n",
        "\n",
        "    for k in range (n-2,-1,-1):\n",
        "        s = 0\n",
        "        for j in range(k+1, n):\n",
        "            s = s + A_t[k][j] * x[j]\n",
        "        x[k] = (B_t[k]- s) / A_t[k][k]\n",
        "\n",
        "    return x\n",
        "\n",
        "def elimGaussiana(n):\n",
        "  matriz = Hilbert(n)\n",
        "  b = Vetor(matriz)\n",
        "  Gaus(matriz, b)\n",
        "\n",
        "  return numpy.array(subs_reversa(matriz, b))\n",
        "\n",
        "print(f\"Resultado para matriz 3x3\")\n",
        "print(elimGaussiana(3) , \"\\n\")\n",
        "print(\"Resultado para matriz 10x10\")\n",
        "print(elimGaussiana(10), \"\\n\")\n",
        "print(\"Resultado para matriz 100x100\")\n",
        "print(elimGaussiana(100), \"\\n\")"
      ]
    }
  ]
}